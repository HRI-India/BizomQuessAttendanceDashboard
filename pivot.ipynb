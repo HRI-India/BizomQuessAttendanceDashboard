{
 "cells": [
  {
   "cell_type": "code",
   "execution_count": 1,
   "id": "0e7ffbc0",
   "metadata": {},
   "outputs": [],
   "source": [
    "import pandas as pd"
   ]
  },
  {
   "cell_type": "code",
   "execution_count": 3,
   "id": "b67e53a1",
   "metadata": {},
   "outputs": [],
   "source": [
    "df = pd.read_excel(\"C:/HRI DATA/Documents/AttendanceDataset/QuesDataSet.xlsx\")"
   ]
  },
  {
   "cell_type": "code",
   "execution_count": 4,
   "id": "a9a0ecbb",
   "metadata": {},
   "outputs": [],
   "source": [
    "# Identify which columns are fixed employee information and which are dates\n",
    "fixed_columns = [\n",
    "    'State', 'City', 'Emp ID', 'Worq LOGIN ID', 'Emp Name', 'Zone',\n",
    "    'Business Unit', 'Manager Name', 'Asm', 'Emp Role', 'Status', 'DOJ', 'Present - Approved', 'Weekoff Approved', 'Total Pay Days',\n",
    "    'Total Days', 'Total Days Not marked & Not Approved'\n",
    "]\n",
    "# Now filter only date columns (example: between 21-Mar-25 and 31-Mar-25)\n",
    "date_columns = df.columns[df.columns.get_loc(\"21-Mar-25\"):df.columns.get_loc(\"20-Apr-25\") + 1]\n",
    "\n",
    "# Melt the data\n",
    "reshaped_df = df.melt(id_vars=fixed_columns, value_vars=date_columns,\n",
    "                      var_name=\"Date\", value_name=\"Attendance\")\n",
    "\n",
    "# Save to file if needed\n",
    "reshaped_df.to_excel(\"Reshaped_QuesDataset.xlsx\", index=False)"
   ]
  }
 ],
 "metadata": {
  "kernelspec": {
   "display_name": "Python 3",
   "language": "python",
   "name": "python3"
  },
  "language_info": {
   "codemirror_mode": {
    "name": "ipython",
    "version": 3
   },
   "file_extension": ".py",
   "mimetype": "text/x-python",
   "name": "python",
   "nbconvert_exporter": "python",
   "pygments_lexer": "ipython3",
   "version": "3.13.2"
  }
 },
 "nbformat": 4,
 "nbformat_minor": 5
}
